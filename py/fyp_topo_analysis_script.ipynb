{
 "cells": [
  {
   "cell_type": "code",
   "execution_count": null,
   "id": "c0927668-2998-44c9-bad3-b79c2f0ca9f8",
   "metadata": {},
   "outputs": [],
   "source": [
    "import numpy as np\n",
    "import pandas as pd\n",
    "from scipy.stats import norm\n",
    "from scipy.stats import binom\n",
    "from scipy.stats import gamma\n",
    "from matplotlib import pyplot as plt\n",
    "from typing import Tuple, List, Callable, Any\n",
    "\n",
    "from file_util import *"
   ]
  },
  {
   "cell_type": "code",
   "execution_count": null,
   "id": "e082cfd1-2f02-424a-995a-eb234b53fe52",
   "metadata": {},
   "outputs": [],
   "source": [
    "# General settings\n",
    "num_runs = 1\n",
    "starting_seed = 0\n",
    "seed_multiplier = 100\n",
    "\n",
    "# Validator settings\n",
    "num_nodes = 31 \n",
    "num_consensus = 2000\n",
    "base_time_limit = 10000\n",
    "node_processing_distribution = \"exp\"\n",
    "node_processing_parameters = [3]\n",
    "consensus_protocol = \"HS\"\n",
    "\n",
    "## Fault settings\n",
    "num_faults = 0\n",
    "fault_type = \"UR\"\n",
    "fault_parameters = []\n",
    "\n",
    "# Network settings\n",
    "## Switch settings\n",
    "switch_processing_distribution = \"exp\"\n",
    "switch_processing_parameters = [0]\n",
    "message_channel_success_rate = 1\n",
    "\n",
    "network_type = \"df\"\n",
    "network_parameters = []"
   ]
  },
  {
   "cell_type": "code",
   "execution_count": null,
   "id": "4de37679",
   "metadata": {},
   "outputs": [],
   "source": [
    "# More utility methods for analysis\n",
    "def get_minima(series: pd.Series):\n",
    "    return series[(series < series.shift(1)) & (series < series.shift(-1))].iloc[0]\n",
    "\n",
    "def get_minima_index(series: pd.Series):\n",
    "    return series[(series < series.shift(1)) & (series < series.shift(-1))].index[0]"
   ]
  },
  {
   "cell_type": "code",
   "execution_count": null,
   "id": "9f881f79",
   "metadata": {},
   "outputs": [],
   "source": [
    "def get_topology_data(topo: str, protocol: str, name: str, topo_params: List[int]=None):\n",
    "    return get_fn_data(lambda name: name.get_switch_params()[0], lambda json: json[TOTAL_TIME_KEY], name=name,\n",
    "                       num_nodes=num_nodes, base_time_limit=base_time_limit, \n",
    "                       topology=topo, protocol=protocol, num_faults=num_faults, \n",
    "                       node_dist==node_processing_distribution,\n",
    "                       topology_params=topo_params)"
   ]
  },
  {
   "cell_type": "code",
   "execution_count": null,
   "id": "57db8dff",
   "metadata": {},
   "outputs": [],
   "source": [
    "ibft_series_fc_8_4 = get_topology_data(\"fc\", \"ibft\", \"ibft_fc_8_4\", topo_params=[8, 4])\n",
    "hs_series_fc_8_4 = get_topology_data(\"fc\", \"hs\", \"hs_fc_8_4\", topo_params=[8, 4])\n",
    "topo_df = pd.DataFrame([ibft_series_fc_8_4, hs_series_fc_8_4]).transpose()\n",
    "\n",
    "topo_df.iloc[6:].plot(style=\".-\", grid=True, title=\"Folded clos, n=31, Half-radix = 4\", xlabel=\"switch processing rate\", ylabel=\"time to consensus\", figsize=(10, 5))"
   ]
  },
  {
   "cell_type": "code",
   "execution_count": null,
   "id": "e24528ca",
   "metadata": {},
   "outputs": [],
   "source": [
    "ibft_series_fc_3 = get_topology_data(\"df\", \"ibft\", \"ibft_df_3\", topo_params=[3])\n",
    "hs_series_fc_3 = get_topology_data(\"df\", \"hs\", \"hs_df_3\", topo_params=[3])\n",
    "\n",
    "topo_df = pd.DataFrame([ibft_series_fc_3, hs_series_fc_3]).transpose()\n",
    "\n",
    "topo_df.iloc[6:].plot(style=\".-\", grid=True, title=\"Dragonfly, n=31, 3 switch per group, 4 terminals per switch\", xlabel=\"switch processing rate\", ylabel=\"average time to consensus\", figsize=(10, 5))\n"
   ]
  },
  {
   "cell_type": "code",
   "execution_count": null,
   "id": "b372be38",
   "metadata": {},
   "outputs": [],
   "source": [
    "def ibft_fc_model(n, k, mu, _lambda):\n",
    "    min_time = (2 * n + 1) / mu\n",
    "    model_time = 2 * k * (2 * n - 1) / _lambda\n",
    "    return max(min_time, model_time) \n",
    "\n",
    "def ibft_df_model(n, g, mu, _lambda):\n",
    "    k = np.ceil(n / (g * (g + 1))) \n",
    "    min_time = (2 * n - 1) / mu\n",
    "    model_time = 2 * k * (2 * n - 1 + 2 * k * (g * (g - 1))) / _lambda\n",
    "    return max(min_time, model_time)\n",
    "\n",
    "cross_topo_df = pd.DataFrame([ibft_series_fc_8_4, ibft_series_fc_3]).transpose()\n",
    "cross_topo_df[\"fc_prediction\"] = topo_df.index.map(lambda x : ibft_fc_model(num_nodes, 4, 3, x))\n",
    "cross_topo_df[\"df_prediction\"] = topo_df.index.map(lambda x : ibft_df_model(num_nodes, 3, 3, x))\n",
    "cross_topo_df.iloc[6:].plot(style=\".-\", grid=True, title=\"IBFT Pred Test\", figsize=(10, 5), xlabel=\"switch processing rate\", ylabel=\"average time to consensus\")"
   ]
  },
  {
   "cell_type": "code",
   "execution_count": null,
   "id": "e978723a",
   "metadata": {},
   "outputs": [],
   "source": [
    "def hs_pred_fn_2(n, mu, _lambda):\n",
    "    f = (n - 1) // 3\n",
    "    pred_1 = (n - 1) * 8 / _lambda\n",
    "    pred_2 = (4 * (n - f)) / mu + 3 * (n) / _lambda + (n / 2 + 4.65) / _lambda \n",
    "    pred_3 = (4 * (n - f)) / mu + 3 * (f + 1) / mu + (n / 2 + 4.65) / _lambda\n",
    "    # first term is processing delay per round, n - f at leader and 1 elsewhere\n",
    "    # second term is remainder time that the leader clears up redundant extra messages vs time the first next-phase message takes to enter. Happens for 3 phases.\n",
    "    # Last term is the average time taken for the final message to reach the desired node, with n/2 being half the nodes and 5.23 being the expected hop count\n",
    "    return max(pred_1, pred_2, pred_3)\n",
    "\n",
    "topo_df[\"hs_pred\"] = topo_df.index.map(lambda x: hs_pred_fn_2(31, 3, x))\n",
    "topo_df.iloc[4:][[\"hs_pred\", \"hs_fc_8_4\"]].plot(style=\".-\", grid=True, title=\"HS Model\", xlabel=\"switch processing rate\", ylabel=\"time to consensus\", figsize=(10,5))"
   ]
  }
 ],
 "metadata": {
  "kernelspec": {
   "display_name": "Python 3 (ipykernel)",
   "language": "python",
   "name": "python3"
  },
  "language_info": {
   "codemirror_mode": {
    "name": "ipython",
    "version": 3
   },
   "file_extension": ".py",
   "mimetype": "text/x-python",
   "name": "python",
   "nbconvert_exporter": "python",
   "pygments_lexer": "ipython3",
   "version": "3.7.9"
  }
 },
 "nbformat": 4,
 "nbformat_minor": 5
}
