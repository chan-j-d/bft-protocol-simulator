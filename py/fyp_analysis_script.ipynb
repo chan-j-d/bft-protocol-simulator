{
 "cells": [
  {
   "cell_type": "code",
   "execution_count": 35,
   "id": "c0927668-2998-44c9-bad3-b79c2f0ca9f8",
   "metadata": {},
   "outputs": [],
   "source": [
    "import json\n",
    "import numpy as np\n",
    "import pandas as pd"
   ]
  },
  {
   "cell_type": "code",
   "execution_count": 2,
   "id": "ae4e5f9b-6cec-4545-84fc-a0ddedee2f2a",
   "metadata": {},
   "outputs": [],
   "source": [
    "from run_config_json import create_run_config_json"
   ]
  },
  {
   "cell_type": "code",
   "execution_count": 108,
   "id": "e082cfd1-2f02-424a-995a-eb234b53fe52",
   "metadata": {},
   "outputs": [],
   "source": [
    "num_runs = 5\n",
    "num_consensus = 10\n",
    "starting_seed = 0\n",
    "seed_multiplier = 100\n",
    "node_processing_rate = 3\n",
    "switch_processing_rate = 9\n",
    "base_time_limit = 10000\n",
    "network_type = \"Torus\"\n",
    "network_parameters = [4]"
   ]
  },
  {
   "cell_type": "code",
   "execution_count": 94,
   "id": "10833249-57c0-4bcb-a9cd-d16c12e38edd",
   "metadata": {},
   "outputs": [],
   "source": [
    "VALIDATOR_RESULTS_FILEPATH = \"../json/validator_results.json\"\n",
    "NEW_ROUND_KEY = \"t_newRound\"\n",
    "PREPREPARED_KEY = \"t_prePrepared\"\n",
    "PREPARED_KEY = \"t_prepared\"\n",
    "ROUND_CHANGE_KEY = \"t_roundChange\"\n",
    "TOTAL_KEY = \"t_total\"\n",
    "\n",
    "time_keys = [NEW_ROUND_KEY, PREPREPARED_KEY, PREPARED_KEY, ROUND_CHANGE_KEY, TOTAL_KEY]"
   ]
  },
  {
   "cell_type": "code",
   "execution_count": 109,
   "id": "a45a54e6-268e-4a6e-ad6c-8ad589ceaabd",
   "metadata": {},
   "outputs": [
    {
     "name": "stdout",
     "output_type": "stream",
     "text": [
      "> Task :compileJava UP-TO-DATE\n",
      "> Task :processResources NO-SOURCE\n",
      "> Task :classes UP-TO-DATE\n",
      "\n",
      "> Task :run\n",
      "Total node count: 20\n",
      "Total consensus count: 10\n",
      "Average time at state NEW_ROUND per node per instance: 1.1409653611067374\n",
      "Average time at state PRE_PREPARED per node per instance: 1.4757643559859628\n",
      "Average time at state PREPARED per node per instance: 1.5630663873804573\n",
      "Average time at state ROUND_CHANGE per node per instance: 0.0\n",
      "Average time per consensus instance per node: 4.179796104473157\n",
      "Total time: 41.79796104473157\n",
      "\n",
      "Average queue stats\n",
      "Average number of messages in queue: 1.6148327415192982\n",
      "Average effective arrival rate: 2.1580000015663265\n",
      "Average waiting time per message: 0.7483006211062164\n",
      "Product of waiting time and arrival rate: 1.6148327415192982\n",
      "Total time: 41.79796104473157\n",
      "\n",
      "BUILD SUCCESSFUL in 2s\n",
      "2 actionable tasks: 1 executed, 1 up-to-date\n",
      "> Task :compileJava UP-TO-DATE\n",
      "> Task :processResources NO-SOURCE\n",
      "> Task :classes UP-TO-DATE\n",
      "\n",
      "> Task :run\n",
      "Total node count: 40\n",
      "Total consensus count: 10\n",
      "Average time at state NEW_ROUND per node per instance: 1.6072412446615125\n",
      "Average time at state PRE_PREPARED per node per instance: 2.8034966443133924\n",
      "Average time at state PREPARED per node per instance: 3.1599056684372338\n",
      "Average time at state ROUND_CHANGE per node per instance: 0.0\n",
      "Average time per consensus instance per node: 7.570643557412137\n",
      "Total time: 75.70643557412137\n",
      "\n",
      "Average queue stats\n",
      "Average number of messages in queue: 2.239031046087382\n",
      "Average effective arrival rate: 2.245515836412075\n",
      "Average waiting time per message: 0.9971121155239527\n",
      "Product of waiting time and arrival rate: 2.239031046087382\n",
      "Total time: 75.70643557412137\n",
      "\n",
      "BUILD SUCCESSFUL in 3s\n",
      "2 actionable tasks: 1 executed, 1 up-to-date\n",
      "> Task :compileJava UP-TO-DATE\n",
      "> Task :processResources NO-SOURCE\n",
      "> Task :classes UP-TO-DATE\n",
      "\n",
      "> Task :run\n",
      "Total node count: 80\n",
      "Total consensus count: 10\n",
      "Average time at state NEW_ROUND per node per instance: 2.899655348523462\n",
      "Average time at state PRE_PREPARED per node per instance: 5.105623787371412\n",
      "Average time at state PREPARED per node per instance: 6.450596280933018\n",
      "Average time at state ROUND_CHANGE per node per instance: 0.0\n",
      "Average time per consensus instance per node: 14.455875416827888\n",
      "Total time: 144.55875416827888\n",
      "\n",
      "Average queue stats\n",
      "Average number of messages in queue: 3.0478994247303675\n",
      "Average effective arrival rate: 2.282808826754632\n",
      "Average waiting time per message: 1.3351531626340478\n",
      "Product of waiting time and arrival rate: 3.047899424730367\n",
      "Total time: 144.55875416827888\n",
      "\n",
      "BUILD SUCCESSFUL in 4s\n",
      "2 actionable tasks: 1 executed, 1 up-to-date\n",
      "> Task :compileJava UP-TO-DATE\n",
      "> Task :processResources NO-SOURCE\n",
      "> Task :classes UP-TO-DATE\n",
      "\n",
      "> Task :run\n",
      "Total node count: 160\n",
      "Total consensus count: 10\n",
      "Average time at state NEW_ROUND per node per instance: 5.803611869920716\n",
      "Average time at state PRE_PREPARED per node per instance: 11.95933058469851\n",
      "Average time at state PREPARED per node per instance: 15.502295356026371\n",
      "Average time at state ROUND_CHANGE per node per instance: 0.0\n",
      "Average time per consensus instance per node: 33.26523781064559\n",
      "Total time: 332.6523781064559\n",
      "\n",
      "Average queue stats\n",
      "Average number of messages in queue: 2.494698035732969\n",
      "Average effective arrival rate: 1.955795427356885\n",
      "Average waiting time per message: 1.27554139908404\n",
      "Product of waiting time and arrival rate: 2.494698035732969\n",
      "Total time: 332.6523781064559\n",
      "\n",
      "BUILD SUCCESSFUL in 10s\n",
      "2 actionable tasks: 1 executed, 1 up-to-date\n",
      "> Task :compileJava UP-TO-DATE\n",
      "> Task :processResources NO-SOURCE\n",
      "> Task :classes UP-TO-DATE\n",
      "> Task :run\n",
      "Total node count: 320\n",
      "Total consensus count: 10\n",
      "Average time at state NEW_ROUND per node per instance: 16.307799453205615\n",
      "Average time at state PRE_PREPARED per node per instance: 30.942639198405356\n",
      "Average time at state PREPARED per node per instance: 45.27419346753436\n",
      "Average time at state ROUND_CHANGE per node per instance: 0.0\n",
      "Average time per consensus instance per node: 92.52463211914534\n",
      "Total time: 925.2463211914534\n",
      "\n",
      "Average queue stats\n",
      "Average number of messages in queue: 1.1644977576763431\n",
      "Average effective arrival rate: 1.3976818609067554\n",
      "Average waiting time per message: 0.8331636764040619\n",
      "Product of waiting time and arrival rate: 1.164497757676343\n",
      "Total time: 925.2463211914534\n",
      "\n",
      "BUILD SUCCESSFUL in 40s\n",
      "2 actionable tasks: 1 executed, 1 up-to-date\n"
     ]
    }
   ],
   "source": [
    "results_dic = {}\n",
    "for num_nodes in [4, 8, 16, 32, 64]:\n",
    "    json_obj = create_run_config_json(num_runs, num_consensus, starting_seed, seed_multiplier,\n",
    "                                      num_nodes, node_processing_rate, switch_processing_rate, base_time_limit, \n",
    "                                      network_type, network_parameters)\n",
    "    config_filename = \"config.json\"\n",
    "    with open(config_filename, \"w\") as config_file:\n",
    "        config_file.write(json_obj)\n",
    "    argument = \"py/\" + config_filename\n",
    "    ! (cd \"../\" && gradlew run --args={argument})\n",
    "    with open(VALIDATOR_RESULTS_FILEPATH, \"r\") as validator_results_json:\n",
    "        validator_results = json.load(validator_results_json)\n",
    "    results_dic[num_nodes] = validator_results\n"
   ]
  },
  {
   "cell_type": "code",
   "execution_count": 110,
   "id": "2d8292ae-8877-4168-beb2-cec9c1cb4683",
   "metadata": {},
   "outputs": [],
   "source": [
    "df = pd.DataFrame(results_dic).transpose()"
   ]
  },
  {
   "cell_type": "code",
   "execution_count": 111,
   "id": "231d27b5-6b58-400b-8128-f121953039b7",
   "metadata": {},
   "outputs": [
    {
     "data": {
      "text/plain": [
       "<AxesSubplot:>"
      ]
     },
     "execution_count": 111,
     "metadata": {},
     "output_type": "execute_result"
    },
    {
     "data": {
      "image/png": "[encoded data removed]",
      "text/plain": [
       "<Figure size 432x288 with 1 Axes>"
      ]
     },
     "metadata": {
      "needs_background": "light"
     },
     "output_type": "display_data"
    }
   ],
   "source": [
    "df[NEW_ROUND_KEY].plot(style=\".-\")\n",
    "df[PREPREPARED_KEY].plot(style=\".-\")\n",
    "df[PREPARED_KEY].plot(style=\".-\")\n",
    "df[TOTAL_KEY].plot(style=\".-\")"
   ]
  },
  {
   "cell_type": "code",
   "execution_count": 102,
   "id": "622e4d46-cfb8-4959-8f3e-05d2f5e17cd4",
   "metadata": {},
   "outputs": [
    {
     "data": {
      "text/plain": [
       "{4: {'t_newRound': 1.1389651177741338,\n",
       "  't_prePrepared': 1.5385546988468215,\n",
       "  't_prepared': 1.738017297900246,\n",
       "  't_roundChange': 0.0,\n",
       "  't_total': 4.415537114521202},\n",
       " 8: {'t_newRound': 1.9415501723545305,\n",
       "  't_prePrepared': 3.2249524534764773,\n",
       "  't_prepared': 3.6464096183251433,\n",
       "  't_roundChange': 0.0,\n",
       "  't_total': 8.812912244156152},\n",
       " 12: {'t_newRound': 1.9415501723545305,\n",
       "  't_prePrepared': 3.2249524534764773,\n",
       "  't_prepared': 3.6464096183251433,\n",
       "  't_roundChange': 0.0,\n",
       "  't_total': 8.812912244156152},\n",
       " 16: {'t_newRound': 3.2482524994735797,\n",
       "  't_prePrepared': 6.213841357061402,\n",
       "  't_prepared': 7.40369636232519,\n",
       "  't_roundChange': 0.0,\n",
       "  't_total': 16.865790218860177},\n",
       " 32: {'t_newRound': 5.417559987929825,\n",
       "  't_prePrepared': 12.790494090238521,\n",
       "  't_prepared': 14.967386681074533,\n",
       "  't_roundChange': 0.0,\n",
       "  't_total': 33.175440759242875},\n",
       " 48: {'t_newRound': 5.417559987929825,\n",
       "  't_prePrepared': 12.790494090238521,\n",
       "  't_prepared': 14.967386681074533,\n",
       "  't_roundChange': 0.0,\n",
       "  't_total': 33.175440759242875},\n",
       " 64: {'t_newRound': 9.763150761926493,\n",
       "  't_prePrepared': 25.497469377991564,\n",
       "  't_prepared': 30.256065763563278,\n",
       "  't_roundChange': 0.0,\n",
       "  't_total': 65.51668590348136}}"
      ]
     },
     "execution_count": 102,
     "metadata": {},
     "output_type": "execute_result"
    }
   ],
   "source": []
  },
  {
   "cell_type": "code",
   "execution_count": null,
   "id": "a2878bcf-9017-47bb-84f4-9e8ee0df8bf8",
   "metadata": {},
   "outputs": [],
   "source": []
  }
 ],
 "metadata": {
  "kernelspec": {
   "display_name": "Python 3 (ipykernel)",
   "language": "python",
   "name": "python3"
  },
  "language_info": {
   "codemirror_mode": {
    "name": "ipython",
    "version": 3
   },
   "file_extension": ".py",
   "mimetype": "text/x-python",
   "name": "python",
   "nbconvert_exporter": "python",
   "pygments_lexer": "ipython3",
   "version": "3.7.9"
  }
 },
 "nbformat": 4,
 "nbformat_minor": 5
}
