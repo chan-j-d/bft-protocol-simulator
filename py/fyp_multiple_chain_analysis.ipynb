{
 "cells": [
  {
   "cell_type": "code",
   "execution_count": null,
   "id": "c0927668-2998-44c9-bad3-b79c2f0ca9f8",
   "metadata": {},
   "outputs": [],
   "source": [
    "import numpy as np\n",
    "import pandas as pd\n",
    "from scipy.stats import norm\n",
    "from scipy.stats import binom\n",
    "from scipy.stats import gamma\n",
    "from matplotlib import pyplot as plt\n",
    "from typing import Tuple, List, Callable, Any\n",
    "from file_util import *"
   ]
  },
  {
   "cell_type": "code",
   "execution_count": null,
   "id": "e082cfd1-2f02-424a-995a-eb234b53fe52",
   "metadata": {},
   "outputs": [],
   "source": [
    "# General settings\n",
    "num_runs = 1\n",
    "starting_seed = 0\n",
    "seed_multiplier = 100\n",
    "\n",
    "# Validator settings\n",
    "num_nodes = 31 \n",
    "num_consensus = 2000\n",
    "base_time_limit = 10000\n",
    "node_processing_distribution = \"exp\"\n",
    "node_processing_parameters = [3]\n",
    "consensus_protocol = \"HS\"\n",
    "\n",
    "## Fault settings\n",
    "num_faults = 0\n",
    "fault_type = \"UR\"\n",
    "fault_parameters = []\n",
    "\n",
    "# Network settings\n",
    "## Switch settings\n",
    "switch_processing_distribution = \"exp\"\n",
    "switch_processing_parameters = [0]\n",
    "message_channel_success_rate = 1\n",
    "\n",
    "network_type = \"df\"\n",
    "network_parameters = []"
   ]
  },
  {
   "cell_type": "code",
   "execution_count": null,
   "id": "4de37679",
   "metadata": {},
   "outputs": [],
   "source": [
    "# More utility methods for analysis\n",
    "def get_minima(series: pd.Series):\n",
    "    return series[(series < series.shift(1)) & (series < series.shift(-1))].iloc[0]\n",
    "\n",
    "def get_minima_index(series: pd.Series):\n",
    "    return series[(series < series.shift(1)) & (series < series.shift(-1))].index[0]"
   ]
  },
  {
   "cell_type": "code",
   "execution_count": null,
   "id": "9f881f79",
   "metadata": {},
   "outputs": [],
   "source": [
    "\n",
    "def get_topology_data(topo: str, protocol: str, name: str, topo_params: List[int]=None, dir=DEFAULT_RESULTS_DIRECTORY):\n",
    "    return get_fn_data(lambda name: name.get_switch_params()[0], lambda json: json[TOTAL_TIME_KEY], name,\n",
    "                       num_nodes=num_nodes, base_time_limit=base_time_limit, \n",
    "                       topology=topo, protocol=protocol, num_faults=num_faults, node_dist=node_processing_distribution, \n",
    "                       topology_params=topo_params, dir=dir)"
   ]
  },
  {
   "cell_type": "code",
   "execution_count": null,
   "id": "57db8dff",
   "metadata": {},
   "outputs": [],
   "source": [
    "ibft_series_8_4_one = get_topology_data(\"fc\", \"ibft\", \"ibft_fc_8_4_1p\", topo_params=[8, 4])\n",
    "hs_series_8_4_one = get_topology_data(\"fc\", \"hs\", \"hs_fc_8_4_1p\", topo_params=[8, 4])\n",
    "ibft_series_8_4_two = get_topology_data(\"fc\", \"ibft\", \"ibft_fc_8_4_2p\", topo_params=[8, 4], dir=\"results/2_simul_programs/\")\n",
    "hs_series_8_4_two = get_topology_data(\"fc\", \"hs\", \"hs_fc_8_4_2p\", topo_params=[8, 4], dir=\"results/2_simul_programs\")\n",
    "ibft_series_8_4_three = get_topology_data(\"fc\", \"ibft\", \"ibft_fc_8_4_3p\", topo_params=[8, 4], dir=\"results/3_simul_programs/\")\n",
    "hs_series_8_4_three = get_topology_data(\"fc\", \"hs\", \"hs_fc_8_4_3p\", topo_params=[8, 4], dir=\"results/3_simul_programs\")\n"
   ]
  },
  {
   "cell_type": "code",
   "execution_count": null,
   "id": "2a5b3f04",
   "metadata": {},
   "outputs": [],
   "source": [
    "\n",
    "topo_df_one = pd.DataFrame([ibft_series_8_4_one, hs_series_8_4_one]).transpose()\n",
    "topo_df_two = pd.DataFrame([ibft_series_8_4_two, hs_series_8_4_two]).transpose()\n",
    "topo_df_three = pd.DataFrame([ibft_series_8_4_three, hs_series_8_4_three]).transpose()\n",
    "\n",
    "topo_df_one.loc[5:].plot(style=\".-\", grid=True, title=\"One programs, Folded clos, n=31, half radix = 4\")\n",
    "topo_df_two.loc[5:].plot(style=\".-\", grid=True, title=\"Two programs, Folded clos, n=31, half radix = 4\")\n",
    "topo_df_three.loc[5:].plot(style=\".-\", grid=True, title=\"Three programs, Folded clos, n=31, half_radix = 4\")"
   ]
  },
  {
   "cell_type": "code",
   "execution_count": null,
   "id": "8a0357bc",
   "metadata": {},
   "outputs": [],
   "source": [
    "hs_df = pd.DataFrame([hs_series_8_4_one, hs_series_8_4_two, hs_series_8_4_three]).transpose().dropna()\n",
    "ibft_df = pd.DataFrame([ibft_series_8_4_one, ibft_series_8_4_two, ibft_series_8_4_three]).transpose().dropna()\n",
    "\n",
    "\n",
    "def ibft_fc_model(n, k, mu, _lambda):\n",
    "    min_time = (2 * n + 1) / mu\n",
    "    model_time = 2 * k * (2 * n - 1) / _lambda\n",
    "    return max(min_time, model_time) \n",
    "def hs_pred_fn(n, mu, _lambda):\n",
    "    f = (n - 1) // 3\n",
    "    pred_1 = (n - 1) * 8 / _lambda\n",
    "    pred_2 = (4 * (n - f)) / mu + 3 * (n) / _lambda + (n / 2 + 4.65) / _lambda \n",
    "    pred_3 = (4 * (n - f)) / mu + 3 * (f + 1) / mu + (n / 2 + 4.65) / _lambda\n",
    "    # first term is processing delay per round, n - f at leader and 1 elsewhere\n",
    "    # second term is remainder time that the leader clears up redundant extra messages vs time the first next-phase message takes to enter. Happens for 3 phases.\n",
    "    # Last term is the average time taken for the final message to reach the desired node, with n/2 being half the nodes and 5.23 being the expected hop count\n",
    "    return max(pred_1, pred_2, pred_3)\n",
    "\n",
    "\n",
    "m = 2\n",
    "ibft_df[\"pred\"] = ibft_df.index.map(lambda rate : ibft_fc_model(31, 4, 3 / m, rate / m))\n",
    "\n",
    "\n",
    "hs_df.loc[5:].plot(style=\".-\", grid=True, title=\"HotStuff, FoldedClos, n=31, half radix=4\", xlim=[0, max(hs_df.index)], ylim=[0, max(hs_df.loc[5:].max())])\n",
    "plt.show()\n",
    "hs_df.loc[5:].plot(style=\".-\", grid=True, title=\"HotStuff, FoldedClos, n=31, half radix=4\")\n",
    "plt.show()\n",
    "ibft_df.loc[5:].plot(style=\".-\", grid=True, title=\"IBFT, FoldedClos, n=31, half radix=4\")\n",
    "plt.show()\n",
    "ibft_df.loc[5:].plot(style=\".-\", grid=True, title=\"IBFT, FoldedClos, n=31, half radix=4\", xlim=[0, max(ibft_df.index)], ylim=[0, max(ibft_df.loc[5:].max())])"
   ]
  },
  {
   "cell_type": "code",
   "execution_count": null,
   "id": "d547971a",
   "metadata": {},
   "outputs": [],
   "source": []
  }
 ],
 "metadata": {
  "kernelspec": {
   "display_name": "Python 3 (ipykernel)",
   "language": "python",
   "name": "python3"
  },
  "language_info": {
   "codemirror_mode": {
    "name": "ipython",
    "version": 3
   },
   "file_extension": ".py",
   "mimetype": "text/x-python",
   "name": "python",
   "nbconvert_exporter": "python",
   "pygments_lexer": "ipython3",
   "version": "3.7.9"
  }
 },
 "nbformat": 4,
 "nbformat_minor": 5
}
