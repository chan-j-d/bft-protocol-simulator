{
 "cells": [
  {
   "cell_type": "code",
   "execution_count": null,
   "id": "c0927668-2998-44c9-bad3-b79c2f0ca9f8",
   "metadata": {},
   "outputs": [],
   "source": [
    "import json\n",
    "import numpy as np\n",
    "import pandas as pd\n",
    "from scipy.stats import norm\n",
    "from scipy.stats import binom\n",
    "from scipy.stats import gamma\n",
    "from scipy.special import gamma as gamma_fn\n",
    "import re\n",
    "import os\n",
    "from matplotlib import pyplot as plt\n",
    "from typing import Tuple, List, Callable, Any\n",
    "\n",
    "from distutils.dir_util import copy_tree\n",
    "from run_config_json import create_run_config_json"
   ]
  },
  {
   "cell_type": "code",
   "execution_count": null,
   "id": "e082cfd1-2f02-424a-995a-eb234b53fe52",
   "metadata": {},
   "outputs": [],
   "source": [
    "# General settings\n",
    "num_runs = 1\n",
    "starting_seed = 0\n",
    "seed_multiplier = 100\n",
    "\n",
    "# Validator settings\n",
    "num_nodes = 16 \n",
    "num_consensus = 2000\n",
    "base_time_limit = 10000\n",
    "node_processing_distribution = \"exp\"\n",
    "node_processing_parameters = [3]\n",
    "consensus_protocol = \"IBFT\"\n",
    "\n",
    "## Fault settings\n",
    "num_faults = 1\n",
    "fault_type = \"UR\"\n",
    "fault_parameters = []\n",
    "\n",
    "# Network settings\n",
    "## Switch settings\n",
    "switch_processing_distribution = \"degen\"\n",
    "switch_processing_parameters = [0]\n",
    "message_channel_success_rate = 1\n",
    "\n",
    "network_type = \"Clique\"\n",
    "network_parameters = []"
   ]
  },
  {
   "cell_type": "code",
   "execution_count": null,
   "id": "10833249-57c0-4bcb-a9cd-d16c12e38edd",
   "metadata": {},
   "outputs": [],
   "source": [
    "VALIDATOR_RESULTS_FILEPATH = \"../json\"\n",
    "RESULTS_DIRECTORY = \"json_n{num_nodes}_btl{base_time_limit:.1f}_{node_dist}_{node_params}_{topology}_{topo_params}_{switch_dist}_{switch_params}\" +  \\\n",
    "                    \"_{protocol}_{num_faults}_{fault_type}_{fault_params}\""
   ]
  },
  {
   "cell_type": "code",
   "execution_count": null,
   "id": "3ffc46ac",
   "metadata": {},
   "outputs": [],
   "source": [
    "def write_str_to_file(file_string: str, filename: str) -> None:\n",
    "    with open(filename, \"w\") as file:\n",
    "        file.write(file_string)\n",
    "\n",
    "def run_and_save(run_config_dic: str, output_directory: str) -> None:\n",
    "    config_filename = \"config.json\"\n",
    "    write_str_to_file(run_config_dic, config_filename)\n",
    "\n",
    "    argument = \"py/\" + config_filename\n",
    "    ! (cd \"../\" && gradlew run --args={argument})\n",
    "    copy_tree(VALIDATOR_RESULTS_FILEPATH, output_directory)    \n",
    "\n",
    "def construct_results_directory(num_nodes: int, base_time_limit: float, \n",
    "                                node_processing_distribution: str, node_processing_parameters: List[float],\n",
    "                                topology: str, topo_params: List[int], switch_processing_distribution: str, switch_processing_parameters: List[float], \n",
    "                                protocol: str, num_faults: int, fault_type: str, fault_params: List[int]) -> str:\n",
    "    return RESULTS_DIRECTORY.format(num_nodes=num_nodes,  base_time_limit=base_time_limit, \n",
    "                                    node_dist=node_processing_distribution, node_params=node_processing_parameters, \n",
    "                                    topology=topology, topo_params=topo_params, switch_dist=switch_processing_distribution, switch_params=switch_processing_parameters, \n",
    "                                    protocol=protocol, num_faults=num_faults, fault_type=fault_type, fault_params=fault_params)\n"
   ]
  },
  {
   "cell_type": "code",
   "execution_count": null,
   "id": "a45a54e6-268e-4a6e-ad6c-8ad589ceaabd",
   "metadata": {},
   "outputs": [],
   "source": [
    "results_dic = {}\n",
    "for num_faults in [4]:\n",
    "    # for base_time_limit in [10, 10.5, 11, 11.5, 12, 12.5, 13, 13.5, 14, 14.5, 15, 15.5, 16, 16.5, 17, 17.5, 18, 18.5, 19, 19.5, 20, 20.5, 21, 21.5, 22, 22.5, 23, 24, 25, 26, 27, 28, 29, 30]: \n",
    "    for base_time_limit in [20, 21, 22, 23, 24, 25, 26, 27, 28, 29, 30] + list(range(31, 51, 2)): \n",
    "# for base_time_limit in range(31, 51):\n",
    "    # for base_time_limit in [5, 5.5, 6, 6.5, 7, 7.5, 8, 8.5, 9, 9.5]:\n",
    "# for base_time_limit in [1, 1.5, 2, 2.5, 3, 3.5, 4, 4.5, 5, 5.5, 6, 6.5, 7, 7.5, 8, 8.5, 9, 9.5]:\n",
    "# for num_nodes in [4, 8, 16, 24, 32, 48, 64]:\n",
    "        json_obj = create_run_config_json(num_runs, starting_seed, seed_multiplier,\n",
    "                                      num_nodes, num_consensus, base_time_limit, \n",
    "                                      node_processing_distribution, node_processing_parameters, \n",
    "                                      consensus_protocol, num_faults, fault_type, fault_parameters,\n",
    "                                      switch_processing_distribution, switch_processing_parameters, \n",
    "                                      message_channel_success_rate, network_type, network_parameters)\n",
    "        run_and_save(json_obj, construct_results_directory(num_nodes, float(base_time_limit), \n",
    "                                                       node_processing_distribution, node_processing_parameters, \n",
    "                                                       network_type.lower(), network_parameters, \n",
    "                                                       switch_processing_distribution, switch_processing_parameters, \n",
    "                                                       consensus_protocol.lower(),\n",
    "                                                       num_faults, fault_type, fault_parameters))\n"
   ]
  }
 ],
 "metadata": {
  "kernelspec": {
   "display_name": "Python 3 (ipykernel)",
   "language": "python",
   "name": "python3"
  },
  "language_info": {
   "codemirror_mode": {
    "name": "ipython",
    "version": 3
   },
   "file_extension": ".py",
   "mimetype": "text/x-python",
   "name": "python",
   "nbconvert_exporter": "python",
   "pygments_lexer": "ipython3",
   "version": "3.7.9"
  }
 },
 "nbformat": 4,
 "nbformat_minor": 5
}
