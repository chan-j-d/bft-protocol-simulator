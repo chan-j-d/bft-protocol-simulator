{
 "cells": [
  {
   "cell_type": "code",
   "execution_count": null,
   "id": "c0927668-2998-44c9-bad3-b79c2f0ca9f8",
   "metadata": {},
   "outputs": [],
   "source": [
    "from distutils.dir_util import copy_tree\n",
    "\n",
    "from file_util import construct_results_directory, create_run_config_json"
   ]
  },
  {
   "cell_type": "code",
   "execution_count": null,
   "id": "f18b237f",
   "metadata": {},
   "outputs": [],
   "source": [
    "# General settings\n",
    "num_runs = 1\n",
    "starting_seed = 0\n",
    "seed_multiplier = 100\n",
    "\n",
    "# Validator settings\n",
    "num_nodes = 16\n",
    "num_consensus = 200\n",
    "num_programs = 1\n",
    "base_time_limit = 10000\n",
    "node_processing_distribution = \"exp\"\n",
    "node_processing_parameters = [3]\n",
    "consensus_protocol = \"hs\"\n",
    "\n",
    "## Fault settings\n",
    "num_faults = 0\n",
    "fault_type = \"UR\"\n",
    "fault_parameters = []\n",
    "\n",
    "# Network settings\n",
    "## Switch settings\n",
    "switch_processing_distribution = \"degen\"\n",
    "switch_processing_parameters = [0]\n",
    "message_channel_success_rate = 1\n",
    "\n",
    "network_type = \"clique\"\n",
    "network_parameters = []"
   ]
  },
  {
   "cell_type": "code",
   "execution_count": null,
   "id": "e082cfd1-2f02-424a-995a-eb234b53fe52",
   "metadata": {},
   "outputs": [],
   "source": [
    "# General settings\n",
    "num_runs = 1\n",
    "starting_seed = 0\n",
    "seed_multiplier = 100\n",
    "\n",
    "# Validator settings\n",
    "num_nodes = 46 \n",
    "num_consensus = 200\n",
    "num_programs = 1\n",
    "base_time_limit = 10000\n",
    "node_processing_distribution = \"exp\"\n",
    "node_processing_parameters = [3]\n",
    "consensus_protocol = \"hs\"\n",
    "\n",
    "## Fault settings\n",
    "num_faults = 0\n",
    "fault_type = \"UR\"\n",
    "fault_parameters = []\n",
    "\n",
    "# Network settings\n",
    "## Switch settings\n",
    "switch_processing_distribution = \"exp\"\n",
    "switch_processing_parameters = [15]\n",
    "message_channel_success_rate = 1\n",
    "\n",
    "network_type = \"df\"\n",
    "network_parameters = [4]"
   ]
  },
  {
   "cell_type": "code",
   "execution_count": null,
   "id": "10833249-57c0-4bcb-a9cd-d16c12e38edd",
   "metadata": {},
   "outputs": [],
   "source": [
    "VALIDATOR_RESULTS_FILEPATH = \"../json\""
   ]
  },
  {
   "cell_type": "code",
   "execution_count": null,
   "id": "3ffc46ac",
   "metadata": {},
   "outputs": [],
   "source": [
    "def write_str_to_file(file_string: str, filename: str) -> None:\n",
    "    with open(filename, \"w\") as file:\n",
    "        file.write(file_string)\n",
    "\n",
    "def run_and_save(run_config_dic: str, output_directory: str) -> None:\n",
    "    config_filename = \"config.json\"\n",
    "    write_str_to_file(run_config_dic, config_filename)\n",
    "\n",
    "    argument = \"py/\" + config_filename\n",
    "    ! (cd \"../\" && gradlew run --args={argument})\n",
    "    copy_tree(VALIDATOR_RESULTS_FILEPATH, output_directory)    \n"
   ]
  },
  {
   "cell_type": "code",
   "execution_count": null,
   "id": "54064c85",
   "metadata": {},
   "outputs": [],
   "source": [
    "for base_time_limit in range(1, 40):\n",
    "        json_obj = create_run_config_json(num_runs, starting_seed, seed_multiplier,\n",
    "                                      num_nodes, num_consensus, num_programs, base_time_limit, \n",
    "                                      node_processing_distribution, node_processing_parameters, \n",
    "                                      consensus_protocol, num_faults, fault_type, fault_parameters,\n",
    "                                      switch_processing_distribution, switch_processing_parameters, \n",
    "                                      message_channel_success_rate, network_type, network_parameters)\n",
    "        run_and_save(json_obj, construct_results_directory(num_nodes, float(base_time_limit), \n",
    "                                                       node_processing_distribution, node_processing_parameters, \n",
    "                                                       network_type.lower(), network_parameters, \n",
    "                                                       switch_processing_distribution, switch_processing_parameters, \n",
    "                                                       consensus_protocol.lower(),\n",
    "                                                       num_faults, fault_type, fault_parameters))\n"
   ]
  },
  {
   "cell_type": "code",
   "execution_count": null,
   "id": "1731e109",
   "metadata": {},
   "outputs": [],
   "source": [
    "for num_faults in [0, 2, 4, 8]:\n",
    "    for base_time_limit in range(35, 65, 2):\n",
    "        if num_faults == 0 and base_time_limit in [35, 37, 39, 41]:\n",
    "            continue\n",
    "        json_obj = create_run_config_json(num_runs, starting_seed, seed_multiplier,\n",
    "                                      num_nodes, num_consensus, num_programs, base_time_limit, \n",
    "                                      node_processing_distribution, node_processing_parameters, \n",
    "                                      consensus_protocol, num_faults, fault_type, fault_parameters,\n",
    "                                      switch_processing_distribution, switch_processing_parameters, \n",
    "                                      message_channel_success_rate, network_type, network_parameters)\n",
    "        run_and_save(json_obj, construct_results_directory(num_nodes, float(base_time_limit), \n",
    "                                                       node_processing_distribution, node_processing_parameters, \n",
    "                                                       network_type.lower(), network_parameters, \n",
    "                                                       switch_processing_distribution, switch_processing_parameters, \n",
    "                                                       consensus_protocol.lower(),\n",
    "                                                       num_faults, fault_type, fault_parameters))\n"
   ]
  },
  {
   "cell_type": "code",
   "execution_count": null,
   "id": "b5475105",
   "metadata": {},
   "outputs": [],
   "source": [
    "for num_faults in [0, 2, 4, 8]:\n",
    "    for base_time_limit in range(45, 77, 2):\n",
    "        json_obj = create_run_config_json(num_runs, starting_seed, seed_multiplier,\n",
    "                                      num_nodes, num_consensus, num_programs, base_time_limit, \n",
    "                                      node_processing_distribution, node_processing_parameters, \n",
    "                                      consensus_protocol, num_faults, fault_type, fault_parameters,\n",
    "                                      switch_processing_distribution, switch_processing_parameters, \n",
    "                                      message_channel_success_rate, network_type, network_parameters)\n",
    "        run_and_save(json_obj, construct_results_directory(num_nodes, float(base_time_limit), \n",
    "                                                       node_processing_distribution, node_processing_parameters, \n",
    "                                                       network_type.lower(), network_parameters, \n",
    "                                                       switch_processing_distribution, switch_processing_parameters, \n",
    "                                                       consensus_protocol.lower(),\n",
    "                                                       num_faults, fault_type, fault_parameters))"
   ]
  },
  {
   "cell_type": "code",
   "execution_count": null,
   "id": "801eeb7c",
   "metadata": {},
   "outputs": [],
   "source": []
  }
 ],
 "metadata": {
  "kernelspec": {
   "display_name": "Python 3 (ipykernel)",
   "language": "python",
   "name": "python3"
  },
  "language_info": {
   "codemirror_mode": {
    "name": "ipython",
    "version": 3
   },
   "file_extension": ".py",
   "mimetype": "text/x-python",
   "name": "python",
   "nbconvert_exporter": "python",
   "pygments_lexer": "ipython3",
   "version": "3.7.9"
  }
 },
 "nbformat": 4,
 "nbformat_minor": 5
}
